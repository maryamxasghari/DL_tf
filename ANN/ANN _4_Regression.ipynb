{
  "nbformat": 4,
  "nbformat_minor": 0,
  "metadata": {
    "colab": {
      "name": "Copy of Artificial Neural Network",
      "provenance": [],
      "collapsed_sections": [],
      "toc_visible": true
    },
    "kernelspec": {
      "name": "python3",
      "display_name": "Python 3"
    }
  },
  "cells": [
    {
      "cell_type": "markdown",
      "metadata": {
        "id": "3cbb7fRy-eyr"
      },
      "source": [
        "# Artificial Neural Network"
      ]
    },
    {
      "cell_type": "markdown",
      "metadata": {
        "id": "yr1ejYXlXkks"
      },
      "source": [
        "Udemy Course : Artificial Neural Network For Regression \n",
        "Build an ANN Regression model to predict the electrical energy output of a Combined Cycle Power Plant"
      ]
    },
    {
      "cell_type": "markdown",
      "metadata": {
        "id": "8sNDnxE2-pwE"
      },
      "source": [
        "### Importing the libraries"
      ]
    },
    {
      "cell_type": "code",
      "metadata": {
        "id": "lxChR1Rk-umf"
      },
      "source": [
        "import numpy as np\n",
        "import pandas as pd\n",
        "import tensorflow as tf"
      ],
      "execution_count": 2,
      "outputs": []
    },
    {
      "cell_type": "code",
      "metadata": {
        "id": "uBTqR3nacj0e",
        "colab": {
          "base_uri": "https://localhost:8080/",
          "height": 37
        },
        "outputId": "cd595977-ed97-4529-8189-297716285806"
      },
      "source": [
        "tf.__version__"
      ],
      "execution_count": 3,
      "outputs": [
        {
          "output_type": "execute_result",
          "data": {
            "application/vnd.google.colaboratory.intrinsic+json": {
              "type": "string"
            },
            "text/plain": [
              "'2.4.1'"
            ]
          },
          "metadata": {
            "tags": []
          },
          "execution_count": 3
        }
      ]
    },
    {
      "cell_type": "markdown",
      "metadata": {
        "id": "AG3FQEch-yuA"
      },
      "source": [
        "## Part 1 - Data Preprocessing"
      ]
    },
    {
      "cell_type": "markdown",
      "metadata": {
        "id": "-4zq8Mza_D9O"
      },
      "source": [
        "### Importing the dataset"
      ]
    },
    {
      "cell_type": "code",
      "metadata": {
        "id": "B9CV13Co_HHM"
      },
      "source": [
        "dataset = pd.read_excel('Folds5x2_pp.xlsx')\n",
        "X = dataset.iloc[:, :-1].values\n",
        "y = dataset.iloc[:, -1].values"
      ],
      "execution_count": 4,
      "outputs": []
    },
    {
      "cell_type": "markdown",
      "metadata": {
        "id": "VC6omXel_Up0"
      },
      "source": [
        "### Splitting the dataset into the Training set and Test set"
      ]
    },
    {
      "cell_type": "code",
      "metadata": {
        "id": "L5edeb2r_agx"
      },
      "source": [
        "from sklearn.model_selection import train_test_split\n",
        "X_train, X_test, y_train, y_test = train_test_split(X, y, test_size = 0.2, random_state = 0)"
      ],
      "execution_count": 5,
      "outputs": []
    },
    {
      "cell_type": "markdown",
      "metadata": {
        "id": "_mSLlAT9_eyI"
      },
      "source": [
        "## Part 2 - Building the ANN"
      ]
    },
    {
      "cell_type": "markdown",
      "metadata": {
        "id": "CsBULd_f_wLY"
      },
      "source": [
        "### Initializing the ANN"
      ]
    },
    {
      "cell_type": "code",
      "metadata": {
        "id": "J6Hd97Ls__Nz"
      },
      "source": [
        "ann = tf.keras.models.Sequential()"
      ],
      "execution_count": 6,
      "outputs": []
    },
    {
      "cell_type": "markdown",
      "metadata": {
        "id": "iitAFJS_ABUn"
      },
      "source": [
        "### Adding the input layer and the first hidden layer"
      ]
    },
    {
      "cell_type": "code",
      "metadata": {
        "id": "ksO_Vv40AHix"
      },
      "source": [
        "ann.add(tf.keras.layers.Dense(units=6, activation='relu'))"
      ],
      "execution_count": 7,
      "outputs": []
    },
    {
      "cell_type": "markdown",
      "metadata": {
        "id": "-lb4kK_wAKbs"
      },
      "source": [
        "### Adding the second hidden layer"
      ]
    },
    {
      "cell_type": "code",
      "metadata": {
        "id": "c2357OqEAQOQ"
      },
      "source": [
        "ann.add(tf.keras.layers.Dense(units=6, activation='relu'))"
      ],
      "execution_count": 8,
      "outputs": []
    },
    {
      "cell_type": "markdown",
      "metadata": {
        "id": "jwMOmKb3AdBY"
      },
      "source": [
        "### Adding the output layer"
      ]
    },
    {
      "cell_type": "code",
      "metadata": {
        "id": "YFATpzsUAkLL"
      },
      "source": [
        "ann.add(tf.keras.layers.Dense(units=1))"
      ],
      "execution_count": 9,
      "outputs": []
    },
    {
      "cell_type": "markdown",
      "metadata": {
        "id": "fq7e4fF6A1yy"
      },
      "source": [
        "## Part 3 - Training the ANN"
      ]
    },
    {
      "cell_type": "markdown",
      "metadata": {
        "id": "qDeylAs2An25"
      },
      "source": [
        "### Compiling the ANN"
      ]
    },
    {
      "cell_type": "code",
      "metadata": {
        "id": "pesgbWlCAtB4"
      },
      "source": [
        "ann.compile(optimizer = 'adam', loss = 'mean_squared_error')"
      ],
      "execution_count": 10,
      "outputs": []
    },
    {
      "cell_type": "markdown",
      "metadata": {
        "id": "YjVuiybYOo7r"
      },
      "source": [
        "### Training the ANN model on the Training set"
      ]
    },
    {
      "cell_type": "code",
      "metadata": {
        "id": "c_vV-tiiA5zn",
        "colab": {
          "base_uri": "https://localhost:8080/"
        },
        "outputId": "8d78faf9-4f1e-40a4-87f3-9a305f4e6967"
      },
      "source": [
        "ann.fit(X_train, y_train, batch_size = 32, epochs = 100)"
      ],
      "execution_count": 11,
      "outputs": [
        {
          "output_type": "stream",
          "text": [
            "Epoch 1/100\n",
            "240/240 [==============================] - 1s 1ms/step - loss: 176120.0070\n",
            "Epoch 2/100\n",
            "240/240 [==============================] - 0s 1ms/step - loss: 20657.3196\n",
            "Epoch 3/100\n",
            "240/240 [==============================] - 0s 1ms/step - loss: 436.1127\n",
            "Epoch 4/100\n",
            "240/240 [==============================] - 0s 1ms/step - loss: 436.3554\n",
            "Epoch 5/100\n",
            "240/240 [==============================] - 0s 1ms/step - loss: 433.7094\n",
            "Epoch 6/100\n",
            "240/240 [==============================] - 0s 1ms/step - loss: 410.6000\n",
            "Epoch 7/100\n",
            "240/240 [==============================] - 0s 1ms/step - loss: 398.9604\n",
            "Epoch 8/100\n",
            "240/240 [==============================] - 0s 1ms/step - loss: 378.3524\n",
            "Epoch 9/100\n",
            "240/240 [==============================] - 0s 1ms/step - loss: 370.3897\n",
            "Epoch 10/100\n",
            "240/240 [==============================] - 0s 1ms/step - loss: 348.2895\n",
            "Epoch 11/100\n",
            "240/240 [==============================] - 0s 1ms/step - loss: 332.7624\n",
            "Epoch 12/100\n",
            "240/240 [==============================] - 0s 1ms/step - loss: 303.6391\n",
            "Epoch 13/100\n",
            "240/240 [==============================] - 0s 1ms/step - loss: 287.6899\n",
            "Epoch 14/100\n",
            "240/240 [==============================] - 0s 1ms/step - loss: 263.0079\n",
            "Epoch 15/100\n",
            "240/240 [==============================] - 0s 1ms/step - loss: 242.1208\n",
            "Epoch 16/100\n",
            "240/240 [==============================] - 0s 1ms/step - loss: 214.5460\n",
            "Epoch 17/100\n",
            "240/240 [==============================] - 0s 1ms/step - loss: 190.7342\n",
            "Epoch 18/100\n",
            "240/240 [==============================] - 0s 1ms/step - loss: 170.0229\n",
            "Epoch 19/100\n",
            "240/240 [==============================] - 0s 1ms/step - loss: 146.4751\n",
            "Epoch 20/100\n",
            "240/240 [==============================] - 0s 1ms/step - loss: 127.4848\n",
            "Epoch 21/100\n",
            "240/240 [==============================] - 0s 1ms/step - loss: 108.9649\n",
            "Epoch 22/100\n",
            "240/240 [==============================] - 0s 1ms/step - loss: 93.9564\n",
            "Epoch 23/100\n",
            "240/240 [==============================] - 0s 1ms/step - loss: 80.6979\n",
            "Epoch 24/100\n",
            "240/240 [==============================] - 0s 1ms/step - loss: 68.7971\n",
            "Epoch 25/100\n",
            "240/240 [==============================] - 0s 1ms/step - loss: 57.3186\n",
            "Epoch 26/100\n",
            "240/240 [==============================] - 0s 1ms/step - loss: 49.6468\n",
            "Epoch 27/100\n",
            "240/240 [==============================] - 0s 1ms/step - loss: 42.7230\n",
            "Epoch 28/100\n",
            "240/240 [==============================] - 0s 1ms/step - loss: 39.4321\n",
            "Epoch 29/100\n",
            "240/240 [==============================] - 0s 1ms/step - loss: 36.4933\n",
            "Epoch 30/100\n",
            "240/240 [==============================] - 0s 1ms/step - loss: 33.7732\n",
            "Epoch 31/100\n",
            "240/240 [==============================] - 0s 1ms/step - loss: 32.6422\n",
            "Epoch 32/100\n",
            "240/240 [==============================] - 0s 1ms/step - loss: 32.2305\n",
            "Epoch 33/100\n",
            "240/240 [==============================] - 0s 1ms/step - loss: 31.0953\n",
            "Epoch 34/100\n",
            "240/240 [==============================] - 0s 1ms/step - loss: 30.2791\n",
            "Epoch 35/100\n",
            "240/240 [==============================] - 0s 1ms/step - loss: 29.3093\n",
            "Epoch 36/100\n",
            "240/240 [==============================] - 0s 1ms/step - loss: 31.1510\n",
            "Epoch 37/100\n",
            "240/240 [==============================] - 0s 1ms/step - loss: 30.2544\n",
            "Epoch 38/100\n",
            "240/240 [==============================] - 0s 1ms/step - loss: 28.4900\n",
            "Epoch 39/100\n",
            "240/240 [==============================] - 0s 1ms/step - loss: 29.3483\n",
            "Epoch 40/100\n",
            "240/240 [==============================] - 0s 1ms/step - loss: 30.5845\n",
            "Epoch 41/100\n",
            "240/240 [==============================] - 0s 1ms/step - loss: 29.5825\n",
            "Epoch 42/100\n",
            "240/240 [==============================] - 0s 1ms/step - loss: 29.3748\n",
            "Epoch 43/100\n",
            "240/240 [==============================] - 0s 1ms/step - loss: 29.0970\n",
            "Epoch 44/100\n",
            "240/240 [==============================] - 0s 1ms/step - loss: 29.0294\n",
            "Epoch 45/100\n",
            "240/240 [==============================] - 0s 1ms/step - loss: 28.2965\n",
            "Epoch 46/100\n",
            "240/240 [==============================] - 0s 1ms/step - loss: 28.0851\n",
            "Epoch 47/100\n",
            "240/240 [==============================] - 0s 1ms/step - loss: 27.9382\n",
            "Epoch 48/100\n",
            "240/240 [==============================] - 0s 1ms/step - loss: 29.1039\n",
            "Epoch 49/100\n",
            "240/240 [==============================] - 0s 1ms/step - loss: 27.9605\n",
            "Epoch 50/100\n",
            "240/240 [==============================] - 0s 1ms/step - loss: 27.9249\n",
            "Epoch 51/100\n",
            "240/240 [==============================] - 0s 1ms/step - loss: 27.0531\n",
            "Epoch 52/100\n",
            "240/240 [==============================] - 0s 1ms/step - loss: 27.7152\n",
            "Epoch 53/100\n",
            "240/240 [==============================] - 0s 1ms/step - loss: 27.4068\n",
            "Epoch 54/100\n",
            "240/240 [==============================] - 0s 1ms/step - loss: 28.2939\n",
            "Epoch 55/100\n",
            "240/240 [==============================] - 0s 1ms/step - loss: 27.4394\n",
            "Epoch 56/100\n",
            "240/240 [==============================] - 0s 1ms/step - loss: 26.8354\n",
            "Epoch 57/100\n",
            "240/240 [==============================] - 0s 1ms/step - loss: 27.7325\n",
            "Epoch 58/100\n",
            "240/240 [==============================] - 0s 1ms/step - loss: 27.8492\n",
            "Epoch 59/100\n",
            "240/240 [==============================] - 0s 1ms/step - loss: 26.6678\n",
            "Epoch 60/100\n",
            "240/240 [==============================] - 0s 1ms/step - loss: 26.5593\n",
            "Epoch 61/100\n",
            "240/240 [==============================] - 0s 1ms/step - loss: 27.4696\n",
            "Epoch 62/100\n",
            "240/240 [==============================] - 0s 1ms/step - loss: 26.1723\n",
            "Epoch 63/100\n",
            "240/240 [==============================] - 0s 1ms/step - loss: 27.0035\n",
            "Epoch 64/100\n",
            "240/240 [==============================] - 0s 1ms/step - loss: 25.8222\n",
            "Epoch 65/100\n",
            "240/240 [==============================] - 0s 1ms/step - loss: 25.8493\n",
            "Epoch 66/100\n",
            "240/240 [==============================] - 0s 1ms/step - loss: 26.9941\n",
            "Epoch 67/100\n",
            "240/240 [==============================] - 0s 1ms/step - loss: 26.9214\n",
            "Epoch 68/100\n",
            "240/240 [==============================] - 0s 1ms/step - loss: 26.5782\n",
            "Epoch 69/100\n",
            "240/240 [==============================] - 0s 1ms/step - loss: 27.4791\n",
            "Epoch 70/100\n",
            "240/240 [==============================] - 0s 1ms/step - loss: 26.0502\n",
            "Epoch 71/100\n",
            "240/240 [==============================] - 0s 1ms/step - loss: 25.8999\n",
            "Epoch 72/100\n",
            "240/240 [==============================] - 0s 1ms/step - loss: 25.7834\n",
            "Epoch 73/100\n",
            "240/240 [==============================] - 0s 1ms/step - loss: 27.1084\n",
            "Epoch 74/100\n",
            "240/240 [==============================] - 0s 1ms/step - loss: 26.6758\n",
            "Epoch 75/100\n",
            "240/240 [==============================] - 0s 1ms/step - loss: 26.5196\n",
            "Epoch 76/100\n",
            "240/240 [==============================] - 0s 1ms/step - loss: 27.0630\n",
            "Epoch 77/100\n",
            "240/240 [==============================] - 0s 1ms/step - loss: 25.2424\n",
            "Epoch 78/100\n",
            "240/240 [==============================] - 0s 1ms/step - loss: 25.6959\n",
            "Epoch 79/100\n",
            "240/240 [==============================] - 0s 1ms/step - loss: 27.0457\n",
            "Epoch 80/100\n",
            "240/240 [==============================] - 0s 1ms/step - loss: 27.1196\n",
            "Epoch 81/100\n",
            "240/240 [==============================] - 0s 1ms/step - loss: 27.3547\n",
            "Epoch 82/100\n",
            "240/240 [==============================] - 0s 1ms/step - loss: 26.4109\n",
            "Epoch 83/100\n",
            "240/240 [==============================] - 0s 1ms/step - loss: 26.3789\n",
            "Epoch 84/100\n",
            "240/240 [==============================] - 0s 1ms/step - loss: 26.0828\n",
            "Epoch 85/100\n",
            "240/240 [==============================] - 0s 1ms/step - loss: 26.3436\n",
            "Epoch 86/100\n",
            "240/240 [==============================] - 0s 1ms/step - loss: 27.6883\n",
            "Epoch 87/100\n",
            "240/240 [==============================] - 0s 1ms/step - loss: 25.5475\n",
            "Epoch 88/100\n",
            "240/240 [==============================] - 0s 1ms/step - loss: 25.8167\n",
            "Epoch 89/100\n",
            "240/240 [==============================] - 0s 1ms/step - loss: 27.5580\n",
            "Epoch 90/100\n",
            "240/240 [==============================] - 0s 1ms/step - loss: 26.2573\n",
            "Epoch 91/100\n",
            "240/240 [==============================] - 0s 1ms/step - loss: 26.6484\n",
            "Epoch 92/100\n",
            "240/240 [==============================] - 0s 1ms/step - loss: 26.3807\n",
            "Epoch 93/100\n",
            "240/240 [==============================] - 0s 1ms/step - loss: 26.0265\n",
            "Epoch 94/100\n",
            "240/240 [==============================] - 0s 1ms/step - loss: 26.6155\n",
            "Epoch 95/100\n",
            "240/240 [==============================] - 0s 1ms/step - loss: 26.2705\n",
            "Epoch 96/100\n",
            "240/240 [==============================] - 0s 1ms/step - loss: 26.5280\n",
            "Epoch 97/100\n",
            "240/240 [==============================] - 0s 1ms/step - loss: 27.2476\n",
            "Epoch 98/100\n",
            "240/240 [==============================] - 0s 1ms/step - loss: 27.7775\n",
            "Epoch 99/100\n",
            "240/240 [==============================] - 0s 1ms/step - loss: 26.7247\n",
            "Epoch 100/100\n",
            "240/240 [==============================] - 0s 1ms/step - loss: 25.9411\n"
          ],
          "name": "stdout"
        },
        {
          "output_type": "execute_result",
          "data": {
            "text/plain": [
              "<tensorflow.python.keras.callbacks.History at 0x7fd6c600e090>"
            ]
          },
          "metadata": {
            "tags": []
          },
          "execution_count": 11
        }
      ]
    },
    {
      "cell_type": "markdown",
      "metadata": {
        "id": "0H0zKKNEBLD5"
      },
      "source": [
        "### Predicting the results of the Test set"
      ]
    },
    {
      "cell_type": "code",
      "metadata": {
        "colab": {
          "base_uri": "https://localhost:8080/"
        },
        "id": "SL-DmiETZdA9",
        "outputId": "8409dbb4-4412-42ae-a26a-91dba685cba9"
      },
      "source": [
        "y_pred = ann.predict(X_test)\n",
        "y_pred"
      ],
      "execution_count": 14,
      "outputs": [
        {
          "output_type": "execute_result",
          "data": {
            "text/plain": [
              "array([[431.72],\n",
              "       [463.  ],\n",
              "       [466.6 ],\n",
              "       ...,\n",
              "       [473.65],\n",
              "       [440.74],\n",
              "       [459.83]], dtype=float32)"
            ]
          },
          "metadata": {
            "tags": []
          },
          "execution_count": 14
        }
      ]
    },
    {
      "cell_type": "code",
      "metadata": {
        "colab": {
          "base_uri": "https://localhost:8080/"
        },
        "id": "vfp62P8xZlsm",
        "outputId": "c9b0c1a0-be14-46fb-a270-8c2d16c9edb8"
      },
      "source": [
        "y_test"
      ],
      "execution_count": 15,
      "outputs": [
        {
          "output_type": "execute_result",
          "data": {
            "text/plain": [
              "array([431.23, 460.01, 461.14, ..., 473.26, 438.  , 463.28])"
            ]
          },
          "metadata": {
            "tags": []
          },
          "execution_count": 15
        }
      ]
    },
    {
      "cell_type": "code",
      "metadata": {
        "colab": {
          "base_uri": "https://localhost:8080/"
        },
        "id": "8CSQh0CzaVy1",
        "outputId": "a480d3c3-4bed-417a-a1be-d059bcfbacdd"
      },
      "source": [
        "y_pred.reshape(len(y_pred),1) , y_test.reshape(len(y_test),1)"
      ],
      "execution_count": 18,
      "outputs": [
        {
          "output_type": "execute_result",
          "data": {
            "text/plain": [
              "(array([[431.72],\n",
              "        [463.  ],\n",
              "        [466.6 ],\n",
              "        ...,\n",
              "        [473.65],\n",
              "        [440.74],\n",
              "        [459.83]], dtype=float32), array([[431.23],\n",
              "        [460.01],\n",
              "        [461.14],\n",
              "        ...,\n",
              "        [473.26],\n",
              "        [438.  ],\n",
              "        [463.28]]))"
            ]
          },
          "metadata": {
            "tags": []
          },
          "execution_count": 18
        }
      ]
    },
    {
      "cell_type": "code",
      "metadata": {
        "id": "IA0yApEmBG1X",
        "colab": {
          "base_uri": "https://localhost:8080/"
        },
        "outputId": "a616ce12-7981-43e0-caad-67e93b6f68e1"
      },
      "source": [
        "np.set_printoptions(precision=2) # 2 decimal\n",
        "print(np.concatenate((y_pred.reshape(len(y_pred),1), y_test.reshape(len(y_test),1)),1))"
      ],
      "execution_count": 12,
      "outputs": [
        {
          "output_type": "stream",
          "text": [
            "[[431.72 431.23]\n",
            " [463.   460.01]\n",
            " [466.6  461.14]\n",
            " ...\n",
            " [473.65 473.26]\n",
            " [440.74 438.  ]\n",
            " [459.83 463.28]]\n"
          ],
          "name": "stdout"
        }
      ]
    },
    {
      "cell_type": "code",
      "metadata": {
        "id": "f6fsroKYaosC"
      },
      "source": [
        ""
      ],
      "execution_count": null,
      "outputs": []
    }
  ]
}